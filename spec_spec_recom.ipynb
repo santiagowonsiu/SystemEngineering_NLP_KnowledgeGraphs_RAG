{
 "cells": [
  {
   "cell_type": "code",
   "execution_count": null,
   "metadata": {},
   "outputs": [],
   "source": []
  },
  {
   "cell_type": "code",
   "execution_count": 7,
   "metadata": {},
   "outputs": [
    {
     "name": "stdout",
     "output_type": "stream",
     "text": [
      "Analysed spec: 'Orbit'\n",
      "\n",
      "Direct successors of 'Orbit': ['FieldOfView', 'Lifetime', 'Radiation']\n",
      "  Orbit -> FieldOfView: The orbit determines the field of view for instruments, influencing what areas of space or planetary surfaces can be observed.\n",
      "  Orbit -> Lifetime: The orbit affects the spacecraft's operational lifetime because factors like radiation exposure and atmospheric drag vary with altitude and orbital path.\n",
      "  Orbit -> Radiation: The chosen orbit affects radiation exposure levels, with higher orbits typically encountering more intense radiation fields.\n",
      "\n",
      "Direct predecessors of 'Orbit': ['Communication', 'Propulsion']\n",
      "  Communication -> Orbit: Communication needs affect the choice of orbit, as certain orbits provide better line-of-sight and signal strength for data transmission.\n",
      "  Propulsion -> Orbit: Propulsion system capabilities affect the chosen orbit, as more powerful propulsion allows for higher or more stable orbits.\n",
      "\n",
      "Indirectly connected specs from 'Orbit': {'Shielding'}\n",
      "  Path: Orbit -> Radiation -> Shielding\n",
      "\n"
     ]
    }
   ],
   "source": [
    "import networkx as nx\n",
    "import matplotlib.pyplot as plt\n",
    "import json\n",
    "\n",
    "# Load data from JSON file\n",
    "with open('data.json') as f:\n",
    "    data = json.load(f)\n",
    "\n",
    "# Extract specs and edges from JSON data\n",
    "specs = data['specs']\n",
    "edges = data['edges']\n",
    "\n",
    "# Create a directed graph\n",
    "G = nx.DiGraph()\n",
    "\n",
    "# Add specs with attributes\n",
    "for node, attr in specs.items():\n",
    "    G.add_node(node, **attr)\n",
    "\n",
    "# Add edges with attributes\n",
    "for edge, description in edges.items():\n",
    "    start, end = edge.split('-')\n",
    "    G.add_edge(start, end, description=description)\n",
    "\n",
    "# Function to find direct and indirect specs and print relationships\n",
    "def find_connections(graph, start_node):\n",
    "    direct_successors = list(graph.successors(start_node))\n",
    "    direct_predecessors = list(graph.predecessors(start_node))\n",
    "    all_connected = nx.descendants(graph, start_node)  # This gets all specs that can be reached from start_node\n",
    "\n",
    "    indirect_specs = all_connected - set(direct_successors)\n",
    "\n",
    "    print(f\"Analysed spec: '{start_node}'\")\n",
    "    \n",
    "    print(f\"\\nDirect successors of '{start_node}': {direct_successors}\")\n",
    "    for succ in direct_successors:\n",
    "        print(f\"  {start_node} -> {succ}: {graph[start_node][succ]['description']}\")\n",
    "\n",
    "    print(f\"\\nDirect predecessors of '{start_node}': {direct_predecessors}\")\n",
    "    for pred in direct_predecessors:\n",
    "        print(f\"  {pred} -> {start_node}: {graph[pred][start_node]['description']}\")\n",
    "\n",
    "    print(f\"\\nIndirectly connected specs from '{start_node}': {indirect_specs}\")\n",
    "    for ind_spec in indirect_specs:\n",
    "        paths = list(nx.all_simple_paths(graph, start_node, ind_spec))\n",
    "        for path in paths:\n",
    "            print(f\"  Path: {' -> '.join(path)}\\n\")\n",
    "    return direct_successors, direct_predecessors, indirect_specs\n",
    "\n",
    "# Example usage\n",
    "direct_successors, direct_predecessors, indirect_specs = find_connections(G, \"Orbit\")\n"
   ]
  },
  {
   "cell_type": "code",
   "execution_count": 11,
   "metadata": {},
   "outputs": [],
   "source": []
  },
  {
   "cell_type": "code",
   "execution_count": null,
   "metadata": {},
   "outputs": [],
   "source": []
  }
 ],
 "metadata": {
  "kernelspec": {
   "display_name": "Python 3",
   "language": "python",
   "name": "python3"
  },
  "language_info": {
   "codemirror_mode": {
    "name": "ipython",
    "version": 3
   },
   "file_extension": ".py",
   "mimetype": "text/x-python",
   "name": "python",
   "nbconvert_exporter": "python",
   "pygments_lexer": "ipython3",
   "version": "3.9.6"
  }
 },
 "nbformat": 4,
 "nbformat_minor": 2
}
