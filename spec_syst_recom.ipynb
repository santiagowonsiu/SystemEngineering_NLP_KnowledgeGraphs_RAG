{
 "cells": [
  {
   "cell_type": "code",
   "execution_count": 1,
   "metadata": {},
   "outputs": [
    {
     "name": "stdout",
     "output_type": "stream",
     "text": [
      "Recommended specs for 'Propulsion Subsystem':\n",
      "\n",
      "Propulsion: The system used to move and maneuver the spacecraft.\n",
      "AttitudeControl: The control of the spacecraft's orientation.\n",
      "Fuel: The propellant used for maneuvers and station keeping.\n"
     ]
    }
   ],
   "source": [
    "import json\n",
    "\n",
    "# Load data from JSON file\n",
    "with open('data.json') as f:\n",
    "    data = json.load(f)\n",
    "\n",
    "# Extract mappings and specs\n",
    "systems_to_subsystems = data['systems_to_subsystems']\n",
    "subsystems_to_components = data['subsystems_to_components']\n",
    "systems = data['systems']\n",
    "subsystems = data['subsystems']\n",
    "components = data['components']\n",
    "specs = data['specs']\n",
    "\n",
    "def get_recommended_specs(system_or_subsystem):\n",
    "    # Find subsystems if input is a system\n",
    "    if system_or_subsystem in systems_to_subsystems:\n",
    "        related_subsystems = systems_to_subsystems[system_or_subsystem]\n",
    "    else:\n",
    "        related_subsystems = [system_or_subsystem] if system_or_subsystem in subsystems_to_components else []\n",
    "\n",
    "    recommended_specs = set()\n",
    "    \n",
    "    # Find components for each related subsystem\n",
    "    for subsystem in related_subsystems:\n",
    "        if subsystem in subsystems_to_components:\n",
    "            related_components = subsystems_to_components[subsystem]\n",
    "            # Find specs for each component\n",
    "            for component in related_components:\n",
    "                if component in components:\n",
    "                    for spec in components[component]:\n",
    "                        recommended_specs.add(spec)\n",
    "\n",
    "    return recommended_specs\n",
    "\n",
    "# Function to print specs with descriptions\n",
    "def print_specs(specs_set):\n",
    "    for spec in specs_set:\n",
    "        if spec in specs:\n",
    "            description = specs[spec].get('description', 'No description available.')\n",
    "            print(f\"{spec}: {description}\")\n",
    "\n",
    "# Example usage\n",
    "system_or_subsystem = \"Propulsion Subsystem\"  # or \"Electrical Power Subsystem\"\n",
    "recommended_specs = get_recommended_specs(system_or_subsystem)\n",
    "print(f\"Recommended specs for '{system_or_subsystem}':\\n\")\n",
    "print_specs(recommended_specs)\n"
   ]
  },
  {
   "cell_type": "code",
   "execution_count": null,
   "metadata": {},
   "outputs": [],
   "source": []
  }
 ],
 "metadata": {
  "kernelspec": {
   "display_name": "Python 3",
   "language": "python",
   "name": "python3"
  },
  "language_info": {
   "codemirror_mode": {
    "name": "ipython",
    "version": 3
   },
   "file_extension": ".py",
   "mimetype": "text/x-python",
   "name": "python",
   "nbconvert_exporter": "python",
   "pygments_lexer": "ipython3",
   "version": "3.9.6"
  }
 },
 "nbformat": 4,
 "nbformat_minor": 2
}
