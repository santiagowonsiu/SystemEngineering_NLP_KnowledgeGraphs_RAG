{
 "cells": [
  {
   "cell_type": "code",
   "execution_count": null,
   "metadata": {},
   "outputs": [],
   "source": [
    "# Allocate a requirement to a system,subsystem, or compoenent (even if fuzzywuzzy words)\n",
    "# Recommend the proper specs for the requirement"
   ]
  },
  {
   "cell_type": "code",
   "execution_count": 2,
   "metadata": {},
   "outputs": [
    {
     "name": "stdout",
     "output_type": "stream",
     "text": [
      "Defaulting to user installation because normal site-packages is not writeable\n",
      "Collecting fuzzywuzzy\n",
      "  Using cached fuzzywuzzy-0.18.0-py2.py3-none-any.whl (18 kB)\n",
      "Installing collected packages: fuzzywuzzy\n",
      "Successfully installed fuzzywuzzy-0.18.0\n",
      "\u001b[33mWARNING: You are using pip version 21.2.4; however, version 24.1.1 is available.\n",
      "You should consider upgrading via the '/Applications/Xcode.app/Contents/Developer/usr/bin/python3 -m pip install --upgrade pip' command.\u001b[0m\n",
      "Note: you may need to restart the kernel to use updated packages.\n"
     ]
    }
   ],
   "source": [
    "%pip install fuzzywuzzy"
   ]
  },
  {
   "cell_type": "code",
   "execution_count": 18,
   "metadata": {},
   "outputs": [
    {
     "name": "stdout",
     "output_type": "stream",
     "text": [
      "Matched component: Communication Components with score: 100\n",
      "Related Component: Communication Components\n"
     ]
    }
   ],
   "source": [
    "import json\n",
    "from fuzzywuzzy import fuzz, process\n",
    "\n",
    "# Load the data from JSON file\n",
    "with open('data.json', 'r') as file:\n",
    "    data = json.load(file)\n",
    "\n",
    "# Individual word mappings\n",
    "word_mappings = {\n",
    "    \"comms\": \"Communication\",\n",
    "    \"power\": \"Power\",\n",
    "    \"prop\": \"Propulsion\",\n",
    "    \"thermal\": \"Thermal\",\n",
    "    \"structural\": \"Structural\",\n",
    "    \"rad protect\": \"Radiation Protection\",\n",
    "    \"cmd and data\": \"Command and Data Handling\",\n",
    "    \"att and orbit control\": \"Attitude and Orbit Control\",\n",
    "    \"science instr\": \"Science Instruments\",\n",
    "    \"mission plan\": \"Mission Planning and Management\",\n",
    "    \"fault mgmt\": \"Fault Management\",\n",
    "    \"subsyst\": \"Subsystem\",\n",
    "    \"system\": \"System\",\n",
    "    \"comp\": \"Components\"\n",
    "}\n",
    "\n",
    "def expand_abbreviations(text):\n",
    "    for abbr, full in word_mappings.items():\n",
    "        text = text.replace(abbr, full)\n",
    "    return text\n",
    "\n",
    "def find_related_entities(requirement):\n",
    "    requirement_expanded = expand_abbreviations(requirement.lower())\n",
    "    \n",
    "    # First match subsystems\n",
    "    subsystem_choices = list(data[\"subsystems\"].keys())\n",
    "    best_subsystem_match, subsystem_score = process.extractOne(requirement_expanded, subsystem_choices, scorer=fuzz.partial_ratio)\n",
    "    \n",
    "    if subsystem_score >= 80:  # Threshold for a good match\n",
    "        print(f\"Matched subsystem: {best_subsystem_match} with score: {subsystem_score}\")\n",
    "        return f\"Related Subsystem: {best_subsystem_match}\"\n",
    "    \n",
    "    # If no subsystem match, then match systems\n",
    "    system_choices = list(data[\"systems\"].keys())\n",
    "    best_system_match, system_score = process.extractOne(requirement_expanded, system_choices, scorer=fuzz.partial_ratio)\n",
    "    \n",
    "    if system_score >= 80:  # Threshold for a good match\n",
    "        print(f\"Matched system: {best_system_match} with score: {system_score}\")\n",
    "        return f\"Related System: {best_system_match}\"\n",
    "    \n",
    "    # If no system match, then match components\n",
    "    component_choices = list(data[\"components\"].keys())\n",
    "    best_component_match, component_score = process.extractOne(requirement_expanded, component_choices, scorer=fuzz.partial_ratio)\n",
    "    \n",
    "    if component_score >= 80:  # Threshold for a good match\n",
    "        print(f\"Matched component: {best_component_match} with score: {component_score}\")\n",
    "        return f\"Related Component: {best_component_match}\"\n",
    "    \n",
    "    return \"No related entities found.\"\n",
    "\n",
    "\n",
    "##################################\n",
    "# Example usage\n",
    "requirement = \"The comms comp shall achieve a downlink data rate.\"\n",
    "related_entity = find_related_entities(requirement)\n",
    "print(related_entity)\n"
   ]
  },
  {
   "cell_type": "code",
   "execution_count": null,
   "metadata": {},
   "outputs": [],
   "source": []
  },
  {
   "cell_type": "code",
   "execution_count": null,
   "metadata": {},
   "outputs": [],
   "source": []
  },
  {
   "cell_type": "code",
   "execution_count": 21,
   "metadata": {},
   "outputs": [
    {
     "name": "stdout",
     "output_type": "stream",
     "text": [
      "Matched subsystem: Communication Subsystem with score: 100\n",
      "Related Subsystem: Communication Subsystem\n",
      "Related Specs:\n",
      "• DownlinkDataRate: The rate at which data is transmitted to Earth.\n",
      "• BitErrorRate: The rate of errors in data transmission.\n",
      "• DownlinkSessions: Sessions for downlinking data.\n"
     ]
    }
   ],
   "source": [
    "import json\n",
    "from fuzzywuzzy import fuzz, process\n",
    "\n",
    "# Load the data from JSON file\n",
    "with open('data.json', 'r') as file:\n",
    "    data = json.load(file)\n",
    "\n",
    "# Individual word mappings\n",
    "word_mappings = {\n",
    "    \"comms\": \"Communication\",\n",
    "    \"power\": \"Power\",\n",
    "    \"prop\": \"Propulsion\",\n",
    "    \"thermal\": \"Thermal\",\n",
    "    \"structural\": \"Structural\",\n",
    "    \"rad protect\": \"Radiation Protection\",\n",
    "    \"cmd and data\": \"Command and Data Handling\",\n",
    "    \"att and orbit control\": \"Attitude and Orbit Control\",\n",
    "    \"science instr\": \"Science Instruments\",\n",
    "    \"mission plan\": \"Mission Planning and Management\",\n",
    "    \"fault mgmt\": \"Fault Management\",\n",
    "    \"subsyst\": \"Subsystem\",\n",
    "    \"system\": \"System\",\n",
    "    \"comp\": \"Components\"\n",
    "}\n",
    "\n",
    "def expand_abbreviations(text):\n",
    "    for abbr, full in word_mappings.items():\n",
    "        text = text.replace(abbr, full)\n",
    "    return text\n",
    "\n",
    "def find_related_entities(requirement):\n",
    "    requirement_expanded = expand_abbreviations(requirement.lower())\n",
    "    \n",
    "    # First match subsystems\n",
    "    subsystem_choices = list(data[\"subsystems\"].keys())\n",
    "    best_subsystem_match, subsystem_score = process.extractOne(requirement_expanded, subsystem_choices, scorer=fuzz.partial_ratio)\n",
    "    \n",
    "    if subsystem_score >= 80:  # Threshold for a good match\n",
    "        print(f\"Matched subsystem: {best_subsystem_match} with score: {subsystem_score}\")\n",
    "        return f\"Related Subsystem: {best_subsystem_match}\", data[\"subsystems\"][best_subsystem_match]\n",
    "    \n",
    "    # If no subsystem match, then match systems\n",
    "    system_choices = list(data[\"systems\"].keys())\n",
    "    best_system_match, system_score = process.extractOne(requirement_expanded, system_choices, scorer=fuzz.partial_ratio)\n",
    "    \n",
    "    if system_score >= 80:  # Threshold for a good match\n",
    "        print(f\"Matched system: {best_system_match} with score: {system_score}\")\n",
    "        return f\"Related System: {best_system_match}\", data[\"systems\"][best_system_match]\n",
    "    \n",
    "    # If no system match, then match components\n",
    "    component_choices = list(data[\"components\"].keys())\n",
    "    best_component_match, component_score = process.extractOne(requirement_expanded, component_choices, scorer=fuzz.partial_ratio)\n",
    "    \n",
    "    if component_score >= 80:  # Threshold for a good match\n",
    "        print(f\"Matched component: {best_component_match} with score: {component_score}\")\n",
    "        return f\"Related Component: {best_component_match}\", data[\"components\"][best_component_match]\n",
    "    \n",
    "    return \"No related entities found.\", []\n",
    "\n",
    "def match_relevant_specs(requirement, relevant_keywords):\n",
    "    matched_specs = []\n",
    "    for keyword in relevant_keywords:\n",
    "        if keyword in data[\"specs\"]:\n",
    "            spec_description = data[\"specs\"][keyword][\"description\"]\n",
    "            if fuzz.partial_ratio(requirement.lower(), spec_description.lower()) >= 50:  # Adjust threshold as needed\n",
    "                matched_specs.append((keyword, spec_description))\n",
    "    return matched_specs\n",
    "\n",
    "# Example usage\n",
    "requirement = \"The comms subsyst shall achieve a downlink data rate.\"\n",
    "related_entity, relevant_keywords = find_related_entities(requirement)\n",
    "print(related_entity)\n",
    "\n",
    "if related_entity != \"No related entities found.\":\n",
    "    relevant_specs = match_relevant_specs(requirement, relevant_keywords)\n",
    "    print(f\"Related Specs:\\n\" + \"\\n\".join([f\"• {spec}: {description}\" for spec, description in relevant_specs]))\n",
    "else:\n",
    "    print(\"No related specs found.\")\n"
   ]
  },
  {
   "cell_type": "code",
   "execution_count": null,
   "metadata": {},
   "outputs": [],
   "source": []
  }
 ],
 "metadata": {
  "kernelspec": {
   "display_name": "Python 3",
   "language": "python",
   "name": "python3"
  },
  "language_info": {
   "codemirror_mode": {
    "name": "ipython",
    "version": 3
   },
   "file_extension": ".py",
   "mimetype": "text/x-python",
   "name": "python",
   "nbconvert_exporter": "python",
   "pygments_lexer": "ipython3",
   "version": "3.9.6"
  }
 },
 "nbformat": 4,
 "nbformat_minor": 2
}
